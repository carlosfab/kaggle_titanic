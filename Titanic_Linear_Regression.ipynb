{
 "cells": [
  {
   "cell_type": "markdown",
   "metadata": {},
   "source": [
    "# Titanic: Machine Learning from Disaster\n",
    "##### Prevendo os sobreviventes com a utilização de Regressão Linear\n",
    "---\n",
    "Solução para a competição \"Titanic: Machine Learning from Disaster\" utilizando Regressão Linear.\n",
    "\n",
    "A análise abaixo é de caráter exploratório, apenas para aprender o básico da importação e tratamento de dados no Python, além de demonstrar que o método de Regressão Linear pode ser poderoso e ao mesmo tempo de simples implementação. \n",
    "\n",
    "*Carlos Melo*\n",
    "<a href=\"https://www.linkedin.com/in/carlosfab/\"><img src=\"https://brand.linkedin.com/etc/designs/linkedin/katy/global/clientlibs/img/default-share.png\" width=150></a>\n",
    "\n",
    "---"
   ]
  },
  {
   "cell_type": "markdown",
   "metadata": {},
   "source": [
    "## Definição do problema\n",
    "\n",
    "O naufrágio do Titanic foi um dos maiores desastres na história. Ocorrido em 15 de abril de 1912, após uma colisão com um *iceberg*, o navio afundou. O saldo final da tragédia foi um total de 1502 mortos de um total de 2224 pessoas (incluindo passageiros e tripulação). Um dos motivos para o grande número de vítimas (cerca de 68%) diz respeito à quantidade de botes bem inferior ao mínimo que seria necessário.\n",
    "\n",
    "Nessa situação, apesar do fator \"sorte\" ter feito parte na sobrevivência dos passageiros do Titanic, existiram grupos de pessoas que tinham uma maior probabilidade de escaparem da morte (como por exemplo mulheres, crianças e passageiros viajando na primeira-classe), como informa a [descrição do próprio desafio](https://www.kaggle.com/c/titanic).\n",
    "\n",
    "Dentro desse contexto, o site [Kaggle](http://www.kaggle.com) fornece então um conjunto de dados aos competidores do desafio, contendo algumas informações (nome, idade, sexo, sobreviveu(sim/não), etc.) sobre 891 passageiros. É esperado que o competidor conduza uma análise e crie um modelo capaz de prever, com a maior acurácia possível, a condição de sobrevivência para os passageiros restantes (*dataset* de teste).\n",
    "\n",
    "Um vídeo com a descrição do acidente do Titanic pode ser visto no link abaixo.\n",
    "\n",
    "<a href=\"https://www.youtube.com/watch?v=9xoqXVjBEF8\n",
    "\" target=\"_blank\"><img src=\"https://img.youtube.com/vi/9xoqXVjBEF8/0.jpg\" \n",
    "alt=\"TITANIC sinking\" width=\"240\" height=\"180\" border=\"10\" /></a>"
   ]
  },
  {
   "cell_type": "markdown",
   "metadata": {},
   "source": [
    "## Aquisição dos dados\n",
    "\n",
    "[O Kaggle fornece os dados](https://www.kaggle.com/c/titanic/data) no formato'.csv'. Os mesmos são divididos em:\n",
    "\n",
    "* conjunto de treinamento (train.csv): para ser utilizado para construir os modelos de *machine learning*. Neste arquivo, é conhecido se cada passageiro sobreviveu ou não.\n",
    "* conjunto de teste (test.csv): para verificar o quão bom o modelo construido é com dados não observados até então. Neste aqruivo, não é fornecida a condição de sobrevivência para cada passageiro. O modelo construído é que deve fazer essa previsão.\n",
    "\n",
    "Será utilizado, primariamente, a biblioteca *Pandas* para se trabalhar com os dados do Titanic."
   ]
  },
  {
   "cell_type": "code",
   "execution_count": 1,
   "metadata": {
    "collapsed": true
   },
   "outputs": [],
   "source": [
    "# Análise de dados\n",
    "import pandas as pd\n",
    "import numpy as np\n",
    "\n",
    "\n",
    "# Visualização\n",
    "import seaborn as sns\n",
    "import matplotlib.pyplot as plt\n",
    "import seaborn as sns\n",
    "sns.set()\n",
    "%matplotlib inline\n",
    "\n",
    "# Classe de Regressão Linear\n",
    "from sklearn.linear_model import LinearRegression\n",
    "\n",
    "# Validação cruzada\n",
    "from sklearn.cross_validation import KFold\n",
    "\n",
    "# Warnings\n",
    "import warnings\n",
    "warnings.filterwarnings('ignore')"
   ]
  },
  {
   "cell_type": "code",
   "execution_count": 2,
   "metadata": {
    "collapsed": false,
    "scrolled": true
   },
   "outputs": [],
   "source": [
    "# Importando banco de dados de treinamento e teste como Dataframes\n",
    "train_data = pd.read_csv('data/train.csv')\n",
    "test_data = pd.read_csv('data/test.csv')"
   ]
  },
  {
   "cell_type": "markdown",
   "metadata": {},
   "source": [
    "## Preparação e limpeza dos dados\n",
    "** Informações e visualização dos dados importados**\n",
    "\n",
    "Inicialmente, vamos ver as primeiras 5 entradas e as 5 últimas entradas das variáveis, a fim de gerar um conhecimento inicial de como o Dataframe está estruturado."
   ]
  },
  {
   "cell_type": "code",
   "execution_count": 3,
   "metadata": {
    "collapsed": false,
    "scrolled": true
   },
   "outputs": [
    {
     "data": {
      "text/html": [
       "<div>\n",
       "<table border=\"1\" class=\"dataframe\">\n",
       "  <thead>\n",
       "    <tr style=\"text-align: right;\">\n",
       "      <th></th>\n",
       "      <th>PassengerId</th>\n",
       "      <th>Survived</th>\n",
       "      <th>Pclass</th>\n",
       "      <th>Name</th>\n",
       "      <th>Sex</th>\n",
       "      <th>Age</th>\n",
       "      <th>SibSp</th>\n",
       "      <th>Parch</th>\n",
       "      <th>Ticket</th>\n",
       "      <th>Fare</th>\n",
       "      <th>Cabin</th>\n",
       "      <th>Embarked</th>\n",
       "    </tr>\n",
       "  </thead>\n",
       "  <tbody>\n",
       "    <tr>\n",
       "      <th>0</th>\n",
       "      <td>1</td>\n",
       "      <td>0</td>\n",
       "      <td>3</td>\n",
       "      <td>Braund, Mr. Owen Harris</td>\n",
       "      <td>male</td>\n",
       "      <td>22.0</td>\n",
       "      <td>1</td>\n",
       "      <td>0</td>\n",
       "      <td>A/5 21171</td>\n",
       "      <td>7.2500</td>\n",
       "      <td>NaN</td>\n",
       "      <td>S</td>\n",
       "    </tr>\n",
       "    <tr>\n",
       "      <th>1</th>\n",
       "      <td>2</td>\n",
       "      <td>1</td>\n",
       "      <td>1</td>\n",
       "      <td>Cumings, Mrs. John Bradley (Florence Briggs Th...</td>\n",
       "      <td>female</td>\n",
       "      <td>38.0</td>\n",
       "      <td>1</td>\n",
       "      <td>0</td>\n",
       "      <td>PC 17599</td>\n",
       "      <td>71.2833</td>\n",
       "      <td>C85</td>\n",
       "      <td>C</td>\n",
       "    </tr>\n",
       "    <tr>\n",
       "      <th>2</th>\n",
       "      <td>3</td>\n",
       "      <td>1</td>\n",
       "      <td>3</td>\n",
       "      <td>Heikkinen, Miss. Laina</td>\n",
       "      <td>female</td>\n",
       "      <td>26.0</td>\n",
       "      <td>0</td>\n",
       "      <td>0</td>\n",
       "      <td>STON/O2. 3101282</td>\n",
       "      <td>7.9250</td>\n",
       "      <td>NaN</td>\n",
       "      <td>S</td>\n",
       "    </tr>\n",
       "    <tr>\n",
       "      <th>3</th>\n",
       "      <td>4</td>\n",
       "      <td>1</td>\n",
       "      <td>1</td>\n",
       "      <td>Futrelle, Mrs. Jacques Heath (Lily May Peel)</td>\n",
       "      <td>female</td>\n",
       "      <td>35.0</td>\n",
       "      <td>1</td>\n",
       "      <td>0</td>\n",
       "      <td>113803</td>\n",
       "      <td>53.1000</td>\n",
       "      <td>C123</td>\n",
       "      <td>S</td>\n",
       "    </tr>\n",
       "    <tr>\n",
       "      <th>4</th>\n",
       "      <td>5</td>\n",
       "      <td>0</td>\n",
       "      <td>3</td>\n",
       "      <td>Allen, Mr. William Henry</td>\n",
       "      <td>male</td>\n",
       "      <td>35.0</td>\n",
       "      <td>0</td>\n",
       "      <td>0</td>\n",
       "      <td>373450</td>\n",
       "      <td>8.0500</td>\n",
       "      <td>NaN</td>\n",
       "      <td>S</td>\n",
       "    </tr>\n",
       "  </tbody>\n",
       "</table>\n",
       "</div>"
      ],
      "text/plain": [
       "   PassengerId  Survived  Pclass  \\\n",
       "0            1         0       3   \n",
       "1            2         1       1   \n",
       "2            3         1       3   \n",
       "3            4         1       1   \n",
       "4            5         0       3   \n",
       "\n",
       "                                                Name     Sex   Age  SibSp  \\\n",
       "0                            Braund, Mr. Owen Harris    male  22.0      1   \n",
       "1  Cumings, Mrs. John Bradley (Florence Briggs Th...  female  38.0      1   \n",
       "2                             Heikkinen, Miss. Laina  female  26.0      0   \n",
       "3       Futrelle, Mrs. Jacques Heath (Lily May Peel)  female  35.0      1   \n",
       "4                           Allen, Mr. William Henry    male  35.0      0   \n",
       "\n",
       "   Parch            Ticket     Fare Cabin Embarked  \n",
       "0      0         A/5 21171   7.2500   NaN        S  \n",
       "1      0          PC 17599  71.2833   C85        C  \n",
       "2      0  STON/O2. 3101282   7.9250   NaN        S  \n",
       "3      0            113803  53.1000  C123        S  \n",
       "4      0            373450   8.0500   NaN        S  "
      ]
     },
     "execution_count": 3,
     "metadata": {},
     "output_type": "execute_result"
    }
   ],
   "source": [
    "train_data.head()"
   ]
  },
  {
   "cell_type": "code",
   "execution_count": 4,
   "metadata": {
    "collapsed": false
   },
   "outputs": [
    {
     "data": {
      "text/html": [
       "<div>\n",
       "<table border=\"1\" class=\"dataframe\">\n",
       "  <thead>\n",
       "    <tr style=\"text-align: right;\">\n",
       "      <th></th>\n",
       "      <th>PassengerId</th>\n",
       "      <th>Survived</th>\n",
       "      <th>Pclass</th>\n",
       "      <th>Name</th>\n",
       "      <th>Sex</th>\n",
       "      <th>Age</th>\n",
       "      <th>SibSp</th>\n",
       "      <th>Parch</th>\n",
       "      <th>Ticket</th>\n",
       "      <th>Fare</th>\n",
       "      <th>Cabin</th>\n",
       "      <th>Embarked</th>\n",
       "    </tr>\n",
       "  </thead>\n",
       "  <tbody>\n",
       "    <tr>\n",
       "      <th>886</th>\n",
       "      <td>887</td>\n",
       "      <td>0</td>\n",
       "      <td>2</td>\n",
       "      <td>Montvila, Rev. Juozas</td>\n",
       "      <td>male</td>\n",
       "      <td>27.0</td>\n",
       "      <td>0</td>\n",
       "      <td>0</td>\n",
       "      <td>211536</td>\n",
       "      <td>13.00</td>\n",
       "      <td>NaN</td>\n",
       "      <td>S</td>\n",
       "    </tr>\n",
       "    <tr>\n",
       "      <th>887</th>\n",
       "      <td>888</td>\n",
       "      <td>1</td>\n",
       "      <td>1</td>\n",
       "      <td>Graham, Miss. Margaret Edith</td>\n",
       "      <td>female</td>\n",
       "      <td>19.0</td>\n",
       "      <td>0</td>\n",
       "      <td>0</td>\n",
       "      <td>112053</td>\n",
       "      <td>30.00</td>\n",
       "      <td>B42</td>\n",
       "      <td>S</td>\n",
       "    </tr>\n",
       "    <tr>\n",
       "      <th>888</th>\n",
       "      <td>889</td>\n",
       "      <td>0</td>\n",
       "      <td>3</td>\n",
       "      <td>Johnston, Miss. Catherine Helen \"Carrie\"</td>\n",
       "      <td>female</td>\n",
       "      <td>NaN</td>\n",
       "      <td>1</td>\n",
       "      <td>2</td>\n",
       "      <td>W./C. 6607</td>\n",
       "      <td>23.45</td>\n",
       "      <td>NaN</td>\n",
       "      <td>S</td>\n",
       "    </tr>\n",
       "    <tr>\n",
       "      <th>889</th>\n",
       "      <td>890</td>\n",
       "      <td>1</td>\n",
       "      <td>1</td>\n",
       "      <td>Behr, Mr. Karl Howell</td>\n",
       "      <td>male</td>\n",
       "      <td>26.0</td>\n",
       "      <td>0</td>\n",
       "      <td>0</td>\n",
       "      <td>111369</td>\n",
       "      <td>30.00</td>\n",
       "      <td>C148</td>\n",
       "      <td>C</td>\n",
       "    </tr>\n",
       "    <tr>\n",
       "      <th>890</th>\n",
       "      <td>891</td>\n",
       "      <td>0</td>\n",
       "      <td>3</td>\n",
       "      <td>Dooley, Mr. Patrick</td>\n",
       "      <td>male</td>\n",
       "      <td>32.0</td>\n",
       "      <td>0</td>\n",
       "      <td>0</td>\n",
       "      <td>370376</td>\n",
       "      <td>7.75</td>\n",
       "      <td>NaN</td>\n",
       "      <td>Q</td>\n",
       "    </tr>\n",
       "  </tbody>\n",
       "</table>\n",
       "</div>"
      ],
      "text/plain": [
       "     PassengerId  Survived  Pclass                                      Name  \\\n",
       "886          887         0       2                     Montvila, Rev. Juozas   \n",
       "887          888         1       1              Graham, Miss. Margaret Edith   \n",
       "888          889         0       3  Johnston, Miss. Catherine Helen \"Carrie\"   \n",
       "889          890         1       1                     Behr, Mr. Karl Howell   \n",
       "890          891         0       3                       Dooley, Mr. Patrick   \n",
       "\n",
       "        Sex   Age  SibSp  Parch      Ticket   Fare Cabin Embarked  \n",
       "886    male  27.0      0      0      211536  13.00   NaN        S  \n",
       "887  female  19.0      0      0      112053  30.00   B42        S  \n",
       "888  female   NaN      1      2  W./C. 6607  23.45   NaN        S  \n",
       "889    male  26.0      0      0      111369  30.00  C148        C  \n",
       "890    male  32.0      0      0      370376   7.75   NaN        Q  "
      ]
     },
     "execution_count": 4,
     "metadata": {},
     "output_type": "execute_result"
    }
   ],
   "source": [
    "train_data.tail()"
   ]
  },
  {
   "cell_type": "markdown",
   "metadata": {},
   "source": [
    "**Significado das variáveis**\n",
    "\n",
    "Com as 5 primeiras entradas impressas na tela, pode-se ter então uma noção de como os dados estão estruturados, bem como quais são as variáveis mais importantes para o início da investigação. Segue o significado de cada coluna do DataFrame:\n",
    "\n",
    "* *PassengerId:* ID do passageiro\n",
    "* *Survived:* Sobreviveu (== 0) ou Faleceu (== 1)\n",
    "* *Pclass:* Classe do passageiro (1st, 2nd, 3rd)\n",
    "* *Name:* Nome do passageiro\n",
    "* *Sex:* Sexo do passageiro\n",
    "* *Age:* Idade\n",
    "* *SibSp:* Número de irmãos/cônjuge a bordo (define as relações familiares)\n",
    "* *Parch:* Número de pais/filhos a bordo (crianças viajando com babás apenas, recebem *parch* = 0)\n",
    "* *Ticket:* Número do *ticket* de embarque\n",
    "* *Fare:* Tarifa paga pelo passageiro\n",
    "* *Cabin:* Número da cabine\n",
    "* *Embarked:* Porto de embarque\n",
    "\n",
    "A seguir, serão olhadas algumas outras informações sobre as variáveis, a fim de identificar o tipo de variável, a contagem do número de entradas para cada uma (para auxiliar a encontrar dados faltando ou fragmentados), valores mínimos e máximos, médias, etc.\n",
    "\n"
   ]
  },
  {
   "cell_type": "code",
   "execution_count": 5,
   "metadata": {
    "collapsed": false
   },
   "outputs": [
    {
     "name": "stdout",
     "output_type": "stream",
     "text": [
      "________________________________________\n",
      "<class 'pandas.core.frame.DataFrame'>\n",
      "RangeIndex: 891 entries, 0 to 890\n",
      "Data columns (total 12 columns):\n",
      "PassengerId    891 non-null int64\n",
      "Survived       891 non-null int64\n",
      "Pclass         891 non-null int64\n",
      "Name           891 non-null object\n",
      "Sex            891 non-null object\n",
      "Age            714 non-null float64\n",
      "SibSp          891 non-null int64\n",
      "Parch          891 non-null int64\n",
      "Ticket         891 non-null object\n",
      "Fare           891 non-null float64\n",
      "Cabin          204 non-null object\n",
      "Embarked       889 non-null object\n",
      "dtypes: float64(2), int64(5), object(5)\n",
      "memory usage: 83.6+ KB\n",
      "________________________________________\n"
     ]
    },
    {
     "data": {
      "text/html": [
       "<div>\n",
       "<table border=\"1\" class=\"dataframe\">\n",
       "  <thead>\n",
       "    <tr style=\"text-align: right;\">\n",
       "      <th></th>\n",
       "      <th>PassengerId</th>\n",
       "      <th>Survived</th>\n",
       "      <th>Pclass</th>\n",
       "      <th>Age</th>\n",
       "      <th>SibSp</th>\n",
       "      <th>Parch</th>\n",
       "      <th>Fare</th>\n",
       "    </tr>\n",
       "  </thead>\n",
       "  <tbody>\n",
       "    <tr>\n",
       "      <th>count</th>\n",
       "      <td>891.000000</td>\n",
       "      <td>891.000000</td>\n",
       "      <td>891.000000</td>\n",
       "      <td>714.000000</td>\n",
       "      <td>891.000000</td>\n",
       "      <td>891.000000</td>\n",
       "      <td>891.000000</td>\n",
       "    </tr>\n",
       "    <tr>\n",
       "      <th>mean</th>\n",
       "      <td>446.000000</td>\n",
       "      <td>0.383838</td>\n",
       "      <td>2.308642</td>\n",
       "      <td>29.699118</td>\n",
       "      <td>0.523008</td>\n",
       "      <td>0.381594</td>\n",
       "      <td>32.204208</td>\n",
       "    </tr>\n",
       "    <tr>\n",
       "      <th>std</th>\n",
       "      <td>257.353842</td>\n",
       "      <td>0.486592</td>\n",
       "      <td>0.836071</td>\n",
       "      <td>14.526497</td>\n",
       "      <td>1.102743</td>\n",
       "      <td>0.806057</td>\n",
       "      <td>49.693429</td>\n",
       "    </tr>\n",
       "    <tr>\n",
       "      <th>min</th>\n",
       "      <td>1.000000</td>\n",
       "      <td>0.000000</td>\n",
       "      <td>1.000000</td>\n",
       "      <td>0.420000</td>\n",
       "      <td>0.000000</td>\n",
       "      <td>0.000000</td>\n",
       "      <td>0.000000</td>\n",
       "    </tr>\n",
       "    <tr>\n",
       "      <th>25%</th>\n",
       "      <td>223.500000</td>\n",
       "      <td>0.000000</td>\n",
       "      <td>2.000000</td>\n",
       "      <td>NaN</td>\n",
       "      <td>0.000000</td>\n",
       "      <td>0.000000</td>\n",
       "      <td>7.910400</td>\n",
       "    </tr>\n",
       "    <tr>\n",
       "      <th>50%</th>\n",
       "      <td>446.000000</td>\n",
       "      <td>0.000000</td>\n",
       "      <td>3.000000</td>\n",
       "      <td>NaN</td>\n",
       "      <td>0.000000</td>\n",
       "      <td>0.000000</td>\n",
       "      <td>14.454200</td>\n",
       "    </tr>\n",
       "    <tr>\n",
       "      <th>75%</th>\n",
       "      <td>668.500000</td>\n",
       "      <td>1.000000</td>\n",
       "      <td>3.000000</td>\n",
       "      <td>NaN</td>\n",
       "      <td>1.000000</td>\n",
       "      <td>0.000000</td>\n",
       "      <td>31.000000</td>\n",
       "    </tr>\n",
       "    <tr>\n",
       "      <th>max</th>\n",
       "      <td>891.000000</td>\n",
       "      <td>1.000000</td>\n",
       "      <td>3.000000</td>\n",
       "      <td>80.000000</td>\n",
       "      <td>8.000000</td>\n",
       "      <td>6.000000</td>\n",
       "      <td>512.329200</td>\n",
       "    </tr>\n",
       "  </tbody>\n",
       "</table>\n",
       "</div>"
      ],
      "text/plain": [
       "       PassengerId    Survived      Pclass         Age       SibSp  \\\n",
       "count   891.000000  891.000000  891.000000  714.000000  891.000000   \n",
       "mean    446.000000    0.383838    2.308642   29.699118    0.523008   \n",
       "std     257.353842    0.486592    0.836071   14.526497    1.102743   \n",
       "min       1.000000    0.000000    1.000000    0.420000    0.000000   \n",
       "25%     223.500000    0.000000    2.000000         NaN    0.000000   \n",
       "50%     446.000000    0.000000    3.000000         NaN    0.000000   \n",
       "75%     668.500000    1.000000    3.000000         NaN    1.000000   \n",
       "max     891.000000    1.000000    3.000000   80.000000    8.000000   \n",
       "\n",
       "            Parch        Fare  \n",
       "count  891.000000  891.000000  \n",
       "mean     0.381594   32.204208  \n",
       "std      0.806057   49.693429  \n",
       "min      0.000000    0.000000  \n",
       "25%      0.000000    7.910400  \n",
       "50%      0.000000   14.454200  \n",
       "75%      0.000000   31.000000  \n",
       "max      6.000000  512.329200  "
      ]
     },
     "execution_count": 5,
     "metadata": {},
     "output_type": "execute_result"
    }
   ],
   "source": [
    "print('_'*40)\n",
    "train_data.info()\n",
    "print('_'*40)\n",
    "train_data.describe()"
   ]
  },
  {
   "cell_type": "markdown",
   "metadata": {},
   "source": [
    "O método .info() retorna um resumo conciso do DataFrame, permitindo identificar o tipo da variável em cada coluna. Já o método .describe() retorna diferentes características das colunas numéricas do DataFrame.\n",
    "\n",
    "Com isso, é possível identificar que as colunas que possuem valores nulos ou em branco (ou seja, seus dados precisam ser corrigidos) são:\n",
    " * ~~'Cabin'~~\n",
    " * 'Age'\n",
    " * 'Embarked'\n",
    " \n",
    " Como existem poucos valores lançados para a categoria 'Cabin', além de não se enxergar inicialmente nenhuma influênca, preferiu-se desconsiderar esta coluna.\n",
    " \n",
    "Na coluna 'Age', os valores NaN serão substituidos pela sua mediana, o que parece ser mais razoável que excluir uma linha inteira que pode conter outros dados importantes. Na coluna 'Embarked', as lacunas serão substituidas pelo valor de maior frequência."
   ]
  },
  {
   "cell_type": "code",
   "execution_count": 6,
   "metadata": {
    "collapsed": false,
    "scrolled": true
   },
   "outputs": [
    {
     "name": "stdout",
     "output_type": "stream",
     "text": [
      "['S' 'C' 'Q' nan]\n",
      "S    644\n",
      "C    168\n",
      "Q     77\n",
      "Name: Embarked, dtype: int64\n"
     ]
    },
    {
     "data": {
      "text/plain": [
       "count    891.000000\n",
       "mean      29.361582\n",
       "std       13.019697\n",
       "min        0.420000\n",
       "10%       16.000000\n",
       "25%       22.000000\n",
       "50%       28.000000\n",
       "75%       35.000000\n",
       "99%       65.000000\n",
       "max       80.000000\n",
       "Name: Age, dtype: float64"
      ]
     },
     "execution_count": 6,
     "metadata": {},
     "output_type": "execute_result"
    }
   ],
   "source": [
    "# Verificando a frequência dos valores de 'Embarked'\n",
    "print(train_data['Embarked'].unique())\n",
    "print(train_data['Embarked'].value_counts())\n",
    "# Substituindo os valores nulos de 'Embarked' por 'S'\n",
    "train_data.loc[train_data['Embarked'].isnull(), 'Embarked'] = 'S'\n",
    "\n",
    "# Substituindo os valores nulos de 'Age' pela mediana da coluna\n",
    "train_data.loc[train_data['Age'].isnull(), 'Age'] = train_data['Age'].median()\n",
    "\n",
    "# Verificando 'Age' com o método .describe(), agora sem dados nulos (NaN)\n",
    "train_data['Age'].describe(percentiles=[.1, .25, .5, .75, .99])"
   ]
  },
  {
   "cell_type": "markdown",
   "metadata": {},
   "source": [
    "## Análise, identificação de padrões e exploração dos dados\n"
   ]
  },
  {
   "cell_type": "markdown",
   "metadata": {},
   "source": [
    "Inicialmente, vamos considerar a hipótese de que crianças e mulheres teriam tido mais chances de sobreviver, uma vez que provavelmente foram as primeiras a serem embarcadas nos botes.\n",
    "\n",
    "Para isso, vamos ver a porcentagem de sobreviventes na categoria 'Sex', analisar o histograma da distribuição das idades, classificar todos os passageiros em 3 grupos (Crianças, adultos e idosos) para vermos a porcentagem de sobreviventes em cada uma delas, e por último analisar se há diferença entre os passageiros das diferentes classes no navio."
   ]
  },
  {
   "cell_type": "code",
   "execution_count": 7,
   "metadata": {
    "collapsed": false
   },
   "outputs": [
    {
     "data": {
      "image/png": "[encoded data removed]",
      "text/plain": [
       "<matplotlib.figure.Figure at 0x11527da58>"
      ]
     },
     "metadata": {},
     "output_type": "display_data"
    }
   ],
   "source": [
    "# Histograma de idades\n",
    "sns.set()\n",
    "plt.hist(train_data['Age'], normed=True, alpha=.8)\n",
    "plt.xlabel(\"Idade\")\n",
    "plt.show()"
   ]
  },
  {
   "cell_type": "code",
   "execution_count": 8,
   "metadata": {
    "collapsed": false
   },
   "outputs": [
    {
     "name": "stdout",
     "output_type": "stream",
     "text": [
      "['male' 'female']\n",
      "        Survived\n",
      "Sex             \n",
      "female  0.742038\n",
      "male    0.188908\n"
     ]
    },
    {
     "data": {
      "image/png": "[encoded data removed]",
      "text/plain": [
       "<matplotlib.figure.Figure at 0x1150ac940>"
      ]
     },
     "metadata": {},
     "output_type": "display_data"
    }
   ],
   "source": [
    "print(train_data['Sex'].unique())\n",
    "print(train_data[['Sex', \"Survived\"]].groupby(['Sex']).mean())\n",
    "plot = sns.barplot(x='Sex', y='Survived', data=train_data, alpha=.8)"
   ]
  },
  {
   "cell_type": "code",
   "execution_count": 9,
   "metadata": {
    "collapsed": false
   },
   "outputs": [
    {
     "name": "stdout",
     "output_type": "stream",
     "text": [
      "           Survived\n",
      "Age_Group          \n",
      "Adulto     0.365059\n",
      "Criança    0.539823\n",
      "Idoso      0.090909\n"
     ]
    },
    {
     "data": {
      "image/png": "[encoded data removed]",
      "text/plain": [
       "<matplotlib.figure.Figure at 0x1151148d0>"
      ]
     },
     "metadata": {},
     "output_type": "display_data"
    }
   ],
   "source": [
    "def check_age(age):\n",
    "    \"\"\" Identifica o grupo etário do qual o passageiro faz parte.\n",
    "    \n",
    "    :param age: <float> representando a idade do passageiro\n",
    "    :return: <string> com o grupo etário equivalente\n",
    "    \"\"\"\n",
    "    if age < 18:\n",
    "        return 'Criança'\n",
    "    elif (age >= 18 ) and (age < 65):\n",
    "        return 'Adulto'\n",
    "    else:\n",
    "        return 'Idoso'\n",
    "\n",
    "train_data['Age_Group'] = train_data['Age'].apply(check_age)\n",
    "print(train_data[['Age_Group', 'Survived']].groupby(['Age_Group']).mean())\n",
    "\n",
    "plot = sns.barplot(x='Age_Group', y='Survived', data = train_data, alpha=.8)"
   ]
  },
  {
   "cell_type": "code",
   "execution_count": 10,
   "metadata": {
    "collapsed": false
   },
   "outputs": [
    {
     "data": {
      "image/png": "[encoded data removed]",
      "text/plain": [
       "<matplotlib.figure.Figure at 0x114f32630>"
      ]
     },
     "metadata": {},
     "output_type": "display_data"
    }
   ],
   "source": [
    "plot = sns.barplot(x='Pclass', y='Survived', data = train_data, alpha=.8)"
   ]
  },
  {
   "cell_type": "code",
   "execution_count": 11,
   "metadata": {
    "collapsed": false
   },
   "outputs": [
    {
     "name": "stdout",
     "output_type": "stream",
     "text": [
      "          Survived\n",
      "Embarked          \n",
      "C         0.553571\n",
      "Q         0.389610\n",
      "S         0.339009\n"
     ]
    }
   ],
   "source": [
    "print(train_data[['Embarked', 'Survived']].groupby(['Embarked']).mean())"
   ]
  },
  {
   "cell_type": "markdown",
   "metadata": {},
   "source": [
    "** Análise preliminar**\n",
    "\n",
    "* A categoria 'Survived' é binária. Ou seja, 1 caso o passageiro tenha sobrevivido; 0 caso tenha falecido.\n",
    "* Cerca de 62% dos passageiros do *dataset* de treino não sobreviveram, ficando próximo à porcentagem do total de 68% (1502 não-sobreviventes / 2224 passageiros).\n",
    "* Cerca de 75% dos passageiros têm até 35 anos.\n",
    "* Menos de 1% dos passageiros têm mais de 65 anos.\n",
    "* Alinhado com a hipótese inicial, mulheres e crianças sobreviveram proporcionalmente mais.\n",
    "* Passageiros que embarcaram pelo Porto 'C' sobreviveram mais que 'Q' e 'S'."
   ]
  },
  {
   "cell_type": "markdown",
   "metadata": {
    "collapsed": false
   },
   "source": [
    "**Convertendo *Sex* e *Embarked* para valores numéricos**\n",
    "\n",
    "Como as colunas *Sex* e *Embarked* parecem ser bastante informativas, iremos convertê-las para valores numéricos. Assim, o algoritmo de *machine learning* poderá utilizá-las para fazer previsões."
   ]
  },
  {
   "cell_type": "code",
   "execution_count": 12,
   "metadata": {
    "collapsed": false
   },
   "outputs": [],
   "source": [
    "# 'Sex'        male = 0   female = 1\n",
    "train_data.loc[train_data['Sex'] == 'male', 'Sex'] = 0\n",
    "train_data.loc[train_data['Sex'] == 'female', 'Sex'] = 1\n",
    "\n",
    "# 'Embarked'   'S' = 0    'C' = 1    'Q' = 2\n",
    "train_data.loc[train_data['Embarked'] == 'S', 'Embarked'] = 0\n",
    "train_data.loc[train_data['Embarked'] == 'C', 'Embarked'] = 1\n",
    "train_data.loc[train_data['Embarked'] == 'Q', 'Embarked'] = 2"
   ]
  },
  {
   "cell_type": "markdown",
   "metadata": {},
   "source": [
    "## Previsões com *Machine Learning*\n",
    "\n",
    "A Regressão Linear pode ser definida como uma equação que visa estimar o valor esperado de uma variável *y*, dados alguns valores de outras variáveis *x*. A mesma considera que as relações existentes entre as variáveis dependentes e as de entradas são lineares, do tipo *y = mx + b*. Neste caso, o valor de *y* é o que queremos prever, *m* é um coeficiente angular, *x* é o valor de uma dada coluna*, e *b* é uma constante. \n",
    "\n",
    "Apesar desse modelo de previsão ser poderoso, tem alguns pontos negativos, como por exemplo o fato de não conseguir captar as não-lineariedades que possam existir no *dataset* de treino, e também o fato de não apresentar probabilidades de sobrevivência (apresenta apenas o valor binário).\n",
    "\n",
    "**Validação Cruzada**\n",
    "A validação cruzada servirá para treinarmos o algoritmo em um conjunto de dados diferentes daqueles em que faremos a previsão. Este passo é considerado crítico para se evitar um *overfitting* do modelo (ou seja, evitar um *fit* no ruído).\n",
    "\n",
    "Utilizaremos o Método k-fold para a validação cruzada, quando dividiremos os dados em 3 partes (*folds*) e procederemos da seguinte maneira:\n",
    "* Combinar as duas primeiras partes, treinar o modelo e fazer a previsão na terceira parte;\n",
    "* Combinar a primeira e terceira parte, treinar o modelo e fazer a previsão na segunda; e\n",
    "* Combinar a segunda e a terceira parte, treinar o modelo e fazer a previsão na primeira.\n",
    "\n",
    "Faremos uso da biblioteca (excelente!) *scikit-learn*, que facilita muito o fluxo de trabalho."
   ]
  },
  {
   "cell_type": "code",
   "execution_count": 13,
   "metadata": {
    "collapsed": false
   },
   "outputs": [
    {
     "name": "stdout",
     "output_type": "stream",
     "text": [
      "len(predictions) : 3\n",
      "5 primeiras entradas da variável predictions:  [ 0.09445602  0.96588768  0.54180569  0.92949341  0.03164796]\n"
     ]
    }
   ],
   "source": [
    "# Colunas que serão utilizadas para fazer a previsão\n",
    "predictors = ['Sex', 'Age', 'Pclass', 'Embarked']\n",
    "\n",
    "# Inicialização da classe do algoritmo\n",
    "algorithm = LinearRegression()\n",
    "folds = KFold(train_data.shape[0], n_folds=3, random_state=0)\n",
    "# Visualizar a estrutura da variável folds\n",
    "# for train_index, test_index in folds:\n",
    "#     print(\"Train: \", train_index, \"Test: \", test_index)\n",
    "\n",
    "predictions = []\n",
    "for train_index, test_index in folds:\n",
    "    train_predictors = train_data[predictors].iloc[train_index, :]\n",
    "    train_target = train_data['Survived'].iloc[train_index]\n",
    "    # Treinando o algoritmo utilizando os predictos e o target (survived?)\n",
    "    algorithm.fit(train_predictors, train_target)\n",
    "    # Fazendo previsões\n",
    "    test_predictions = algorithm.predict(train_data[predictors].iloc[test_index, :])\n",
    "    predictions.append(test_predictions)\n",
    "    \n",
    "# Como criamos 3 conjuntos de teste, o output é uma list de len() = 3. Para cara item da lista, \n",
    "# é armazenado um valor para cada passageiro do conjunto de teste\n",
    "print(\"len(predictions) :\", len(predictions))\n",
    "print(\"5 primeiras entradas da variável predictions: \", predictions[0][0:5])"
   ]
  },
  {
   "cell_type": "markdown",
   "metadata": {},
   "source": [
    "Como os únicos valores para a coluna 'Survived' são 0 ou 1, iremos transformar as previsões de cada passageiro seguindo o critério:\n",
    "* ( > 0.5 ) = 1\n",
    "* ( <= 0.5 ) = 0\n",
    "\n",
    "Com isso, basta calcular quantos acertos o nosso algoritmo teve e calcular a acurácia do modelo.\n",
    "\n",
    "Apesar de 78% de acertos estar longe do ideal, a aplicação de métodos de Regressão Linear foi capaz de capturar e transmitir para a equação algumas correlações importantes. Como próximo passo, vamos processar a variável de teste do modelo (idêntico aos passos que utilizamos no *dataset* de treino), enviar para o Kaggle e verificar a nossa taxa de acerto."
   ]
  },
  {
   "cell_type": "code",
   "execution_count": 14,
   "metadata": {
    "collapsed": false
   },
   "outputs": [
    {
     "name": "stdout",
     "output_type": "stream",
     "text": [
      "Acurácia: 78.34%\n"
     ]
    }
   ],
   "source": [
    "predictions = np.concatenate(predictions)\n",
    "# Transformando as previsões em valores binários\n",
    "predictions[predictions > 0.5] = 1\n",
    "predictions[predictions <= 0.5] = 0\n",
    "\n",
    "# Calcular a acurácia da previsão do algoritmo\n",
    "accuracy = sum(predictions[predictions == train_data['Survived']]) / predictions.shape[0]\n",
    "print('Acurácia: {0:.2f}%'.format(100*accuracy))"
   ]
  },
  {
   "cell_type": "markdown",
   "metadata": {},
   "source": [
    "## Gerando um arquivo para enviar ao Kaggle\n",
    "\n",
    "Seguiremos os mesmo passos de limpeza de dados e conversões numéricas para algumas variáveis.\n",
    "\n",
    "Ao final, geraremos um arquivo .csv para submeter ao Kaggle, e verificar então como nosso algoritmo foi no *dataset* de teste."
   ]
  },
  {
   "cell_type": "code",
   "execution_count": 15,
   "metadata": {
    "collapsed": false
   },
   "outputs": [],
   "source": [
    "# Preenchendo os valores NaN com a mediana da idade\n",
    "test_data.loc[test_data['Age'].isnull(), 'Age'] = test_data['Age'].median()\n",
    "\n",
    "# Conversão dos valores da coluna 'Sex'\n",
    "# 'Sex'        male = 0   female = 1\n",
    "test_data.loc[test_data['Sex'] == 'male', 'Sex'] = 0\n",
    "test_data.loc[test_data['Sex'] == 'female', 'Sex'] = 1\n",
    "\n",
    "# Conversão dos valores da coluna 'Embarked'\n",
    "# 'Embarked'   'S' = 0    'C' = 1    'Q' = 2\n",
    "test_data.loc[test_data['Embarked'] == 'S', 'Embarked'] = 0\n",
    "test_data.loc[test_data['Embarked'] == 'C', 'Embarked'] = 1\n",
    "test_data.loc[test_data['Embarked'] == 'Q', 'Embarked'] = 2\n",
    "\n",
    "# Agora, treinaremos o algoritmo com o dataset de treino completo (sem dividir com KFold)\n",
    "algorithm = LinearRegression()\n",
    "algorithm.fit(train_data[predictors], train_data['Survived'])\n",
    "# Previsões em cima do dataset de teste\n",
    "predictions = algorithm.predict(test_data[predictors])\n",
    "\n",
    "# Coneversão do resultado para valores binários\n",
    "predictions[predictions > 0.5] = int(1)\n",
    "predictions[predictions <= 0.5] = int(0)\n",
    "\n",
    "# Gerando o arquivo csv para envio \n",
    "# São necessárias apenas duas colunas no arquivo: 'PassengerId' e 'Survived'\n",
    "kaggle = pd.DataFrame({'PassengerId': test_data['PassengerId'], 'Survived': predictions})\n",
    "# Convertendo a coluna de float para int (caso contrário, o site dará erro)\n",
    "kaggle['Survived'] = kaggle['Survived'].astype(dtype='int64')\n",
    "\n",
    "kaggle.to_csv('kaggle.csv', index=False)"
   ]
  },
  {
   "cell_type": "markdown",
   "metadata": {},
   "source": [
    "## Resultado final\n",
    "\n",
    "Após o envio para o Kaggle, foi computado um *Score* de 75% de acertos, alinhado com a acurácia que o modelo havia apresentado no *dataset* de treino.\n",
    "\n",
    "<a href=\"https://ibb.co/iyVhBF\"><img src=\"https://preview.ibb.co/hTdr5a/Screenshot_2017_03_07_01_15_52.png\" alt=\"Screenshot 2017 03 07 01 15 52\" border=\"0\" /></a>\n",
    "\n",
    "Como foi dito no começo, a Regressão Linear apresenta bons resultados e é simples de implementar. Há, no entanto, outros algoritmos melhores, como o *Random Forest*, que tem um melhor potencial para elevar a taxa de acerto.\n",
    "\n",
    "Mas como o carater desta análise era apenas epxloratório, creio que serviu para o propósito de aprendizado (meu, principalmente). Quaisquer dúvidas ou sugestões serão muito bem vindas. Obrigado!"
   ]
  },
  {
   "cell_type": "code",
   "execution_count": null,
   "metadata": {
    "collapsed": true
   },
   "outputs": [],
   "source": []
  }
 ],
 "metadata": {
  "anaconda-cloud": {},
  "kernelspec": {
   "display_name": "Python [conda root]",
   "language": "python",
   "name": "conda-root-py"
  },
  "language_info": {
   "codemirror_mode": {
    "name": "ipython",
    "version": 3
   },
   "file_extension": ".py",
   "mimetype": "text/x-python",
   "name": "python",
   "nbconvert_exporter": "python",
   "pygments_lexer": "ipython3",
   "version": "3.5.2"
  }
 },
 "nbformat": 4,
 "nbformat_minor": 1
}
